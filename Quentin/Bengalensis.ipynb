{
 "cells": [
  {
   "cell_type": "markdown",
   "metadata": {},
   "source": [
    "# Installation des librairies"
   ]
  },
  {
   "cell_type": "code",
   "execution_count": 1,
   "metadata": {},
   "outputs": [],
   "source": [
    "!pip install -q -q -q tifffile\n",
    "!pip install -q -q -q tqdm\n",
    "import os\n",
    "#quelque-chose\n",
    "os.chdir('/tf/work/challenge-donnees-sat')"
   ]
  },
  {
   "cell_type": "markdown",
   "metadata": {},
   "source": [
    "# Lecture des librairies et framework"
   ]
  },
  {
   "cell_type": "code",
   "execution_count": 2,
   "metadata": {},
   "outputs": [],
   "source": [
    "%load_ext autoreload\n",
    "%autoreload 2\n",
    "\n",
    "import s3fs\n",
    "import shutil\n",
    "\n",
    "from pathlib import Path\n",
    "import random\n",
    "\n",
    "import numpy as np\n",
    "from tifffile import TiffFile\n",
    "import matplotlib.pyplot as plt\n",
    "import colorsys\n",
    "import PIL\n",
    "from PIL import Image\n",
    "from tqdm import tqdm\n",
    "import matplotlib.patches as mpatches\n",
    "\n",
    "from framework.dataset import LandCoverData as LCD"
   ]
  },
  {
   "cell_type": "markdown",
   "metadata": {},
   "source": [
    "# Téléchargement + lecture des images de la BDD"
   ]
  },
  {
   "cell_type": "code",
   "execution_count": 3,
   "metadata": {},
   "outputs": [],
   "source": [
    "fs = s3fs.S3FileSystem(client_kwargs={'endpoint_url': 'https://minio.lab.sspcloud.fr'})\n",
    "fs.get('projet-challengedata-ens/data/additional_files_earthcube_emu4zqr.zip', 'additional_files_earthcube_emu4zqr.zip')\n",
    "shutil.unpack_archive('additional_files_earthcube_emu4zqr.zip')"
   ]
  },
  {
   "cell_type": "markdown",
   "metadata": {},
   "source": [
    "# Trainning et Test"
   ]
  },
  {
   "cell_type": "code",
   "execution_count": null,
   "metadata": {},
   "outputs": [],
   "source": [
    "DATA_FOLDER_STR = 'dataset'\n",
    "DATA_FOLDER = Path(DATA_FOLDER_STR).expanduser()\n",
    "# path to the unzipped dataset: contains directories train/ and test/\n",
    "DATASET_FOLDER = DATA_FOLDER\n",
    "\n",
    "# get all train images and masks\n",
    "train_images_paths = sorted(list(DATASET_FOLDER.glob('train/images/*.tif')))\n",
    "train_masks_paths = sorted(list(DATASET_FOLDER.glob('train/masks/*.tif')))\n",
    "# get all test images\n",
    "test_images_paths = sorted(list(DATASET_FOLDER.glob('test/images/*.tif')))"
   ]
  },
  {
   "cell_type": "markdown",
   "metadata": {},
   "source": [
    "## Visualize data points"
   ]
  },
  {
   "cell_type": "code",
   "execution_count": 7,
   "metadata": {},
   "outputs": [
    {
     "ename": "AttributeError",
     "evalue": "'list' object has no attribute 'shape'",
     "output_type": "error",
     "traceback": [
      "\u001b[0;31m---------------------------------------------------------------------------\u001b[0m",
      "\u001b[0;31mAttributeError\u001b[0m                            Traceback (most recent call last)",
      "\u001b[0;32m<ipython-input-7-712bc4816f7d>\u001b[0m in \u001b[0;36m<module>\u001b[0;34m\u001b[0m\n\u001b[0;32m----> 1\u001b[0;31m \u001b[0mtest_images_paths\u001b[0m\u001b[0;34m.\u001b[0m\u001b[0mshape\u001b[0m\u001b[0;34m\u001b[0m\u001b[0;34m\u001b[0m\u001b[0m\n\u001b[0m",
      "\u001b[0;31mAttributeError\u001b[0m: 'list' object has no attribute 'shape'"
     ]
    }
   ],
   "source": [
    "test_images_paths.shape"
   ]
  },
  {
   "cell_type": "code",
   "execution_count": 46,
   "metadata": {},
   "outputs": [],
   "source": [
    "def test(image, mask):\n",
    "    \"\"\"Calcule des pixels\n",
    "    Args : \n",
    "        image (numpy.array[uint8])\n",
    "        mask (numpy.array[uint8]): the mask in 8-bit\n",
    "        \n",
    "    \"\"\"\n",
    "    colors_mask = np.asarray(LCD.CLASSES_COLORPALETTE.items())\n",
    "    \n",
    "    colimg= np.array(image)\n",
    "    colmask = np.array(mask)\n",
    "    colmask_test = np.array(mask)\n",
    "    count = 0\n",
    "    \n",
    "    \n",
    "    a = 4\n",
    "    no_data = np.empty((0,a))\n",
    "    clouds = np.empty((0,a))\n",
    "    artificial = np.empty((0,a))\n",
    "    cultivated = np.empty((0,a))\n",
    "    broadleaf = np.empty((0,a))\n",
    "    coniferous = np.empty((0,a))\n",
    "    herbaceous = np.empty((0,a))\n",
    "    natural = np.empty((0,a))\n",
    "    snow = np.empty((0,a))\n",
    "    water = np.empty((0,a))\n",
    "    axisconca = 0\n",
    "    \n",
    "    for i in range (colmask.shape[0]):\n",
    "        for j in range (colmask.shape[1]):            \n",
    "            if colmask_test[i][j] == 0 :\n",
    "                no_data = np.concatenate((no_data,[colimg[i][j]]), axis = axisconca)\n",
    "                #colmask_test[i][j] == [0,0,0]\n",
    "            if colmask_test[i][j] == 1 :\n",
    "                clouds  = np.concatenate((clouds,[colimg[i][j]]), axis = axisconca)\n",
    "                #colmask_test[i][j] == [255,25,236]\n",
    "            if colmask_test[i][j] == 2 :\n",
    "                artificial  = np.concatenate((artificial,[colimg[i][j]]), axis = axisconca)\n",
    "                #colmask_test[i][j] == [215,25,28]\n",
    "            if colmask_test[i][j] == 3 :\n",
    "                cultivated  = np.concatenate((cultivated,[colimg[i][j]]), axis = axisconca)\n",
    "                #colmask_test[i][j] == [211,154,92]\n",
    "            if colmask_test[i][j] == 4 :\n",
    "                test = colimg[i][j]\n",
    "                broadleaf  = np.concatenate((broadleaf,[colimg[i][j]]), axis = axisconca)\n",
    "                #colmask_test[i][j] == [33,115,55]\n",
    "            if colmask_test[i][j] == 5 :\n",
    "                coniferous  = np.concatenate((coniferous,[colimg[i][j]]), axis = axisconca)\n",
    "                #colmask_test[i][j] == [21,75,35]\n",
    "            if colmask_test[i][j] == 6 :\n",
    "                herbaceous  = np.concatenate((herbaceous,[colimg[i][j]]), axis = axisconca)\n",
    "                #colmask_test[i][j] == [118,209,93]\n",
    "            if colmask_test[i][j] == 7 :\n",
    "                natural  = np.concatenate((natural,[colimg[i][j]]), axis = axisconca)\n",
    "                #colmask_test[i][j] == [130,130,130]\n",
    "            if colmask_test[i][j] == 8 :\n",
    "                snow  = np.concatenate((snow,[colimg[i][j]]), axis = axisconca)\n",
    "                #colmask_test[i][j] == [255,255,255]\n",
    "            if colmask_test[i][j] == 9 :\n",
    "                water  = np.concatenate((water,[colimg[i][j]]), axis = axisconca)\n",
    "                #colmask_test[i][j] == [43,61,255]\n",
    "                \n",
    "        count = count +1\n",
    "    return colmask_test, no_data, clouds, artificial, cultivated, broadleaf, coniferous, herbaceous, natural, snow, water\n",
    "\n",
    "\n",
    "#def moy_pix(no_data, clouds, artificial, cultivated, broadleaf, coniferous, herbaceous, natural, snow, water):\n",
    "\n",
    "\n",
    "def test2(colimage):\n",
    "\n",
    "    \n",
    "    image= np.array(colimage)\n",
    "    \n",
    "    for i in range (image.shape[0]):\n",
    "        for j in range (image.shape[1]):            \n",
    "            if ((no_data_inf[0]<image[i][j][0]<no_data_inf[0])and(no_data_inf[1]<image[i][j][1]<no_data_inf[1])and(no_data_inf[2]<image[i][j][2]<no_data_inf[2])and(no_data_inf[3]<image[i][j][3]<no_data_inf[3])) :\n",
    "                test_no_data +=1\n",
    "            if ((clouds_inf[0]<image[i][j][0]<clouds_inf[0])and(clouds_inf[1]<image[i][j][1]<clouds_inf[1])and(clouds_inf[2]<image[i][j][2]<clouds_inf[2])and(clouds_inf[3]<image[i][j][3]<clouds_inf[3])) :\n",
    "                test_clouds +=1\n",
    "                #colmask_test[i][j] == [255,25,236]\n",
    "            if ((artificial_inf[0]<image[i][j][0]<artificial_inf[0])and(artificial_inf[1]<image[i][j][1]<artificial_inf[1])and(artificial_inf[2]<image[i][j][2]<artificial_inf[2])and(artificial_inf[3]<image[i][j][3]<artificial_inf[3])) :\n",
    "                test_artificial +=1\n",
    "                #colmask_test[i][j] == [215,25,28]\n",
    "            if ((cultivated_inf[0]<image[i][j][0]<cultivated_inf[0])and(cultivated_inf[1]<image[i][j][1]<cultivated_inf[1])and(cultivated_inf[2]<image[i][j][2]<cultivated_inf[2])and(cultivated_inf[3]<image[i][j][3]<cultivated_inf[3])) :\n",
    "                test_cultivated  += 1\n",
    "                #colmask_test[i][j] == [211,154,92]\n",
    "            if ((broadleaf_inf[0]<image[i][j][0]<broadleaf_inf[0])and(broadleaf_inf[1]<image[i][j][1]<broadleaf_inf[1])and(broadleaf_inf[2]<image[i][j][2]<broadleaf_inf[2])and(broadleaf_inf[3]<image[i][j][3]<broadleaf_inf[3])) :\n",
    "                \n",
    "                test_broadleaf  += 1\n",
    "                #colmask_test[i][j] == [33,115,55]\n",
    "            if ((coniferous_inf[0]<image[i][j][0]<coniferous_inf[0])and(coniferous_inf[1]<image[i][j][1]<coniferous_inf[1])and(coniferous_inf[2]<image[i][j][2]<coniferous_inf[2])and(coniferous_inf[3]<image[i][j][3]<coniferous_inf[3])) :\n",
    "                test_coniferous  += 1\n",
    "                #colmask_test[i][j] == [21,75,35]\n",
    "            if ((herbaceous_inf[0]<image[i][j][0]<herbaceous_inf[0])and(herbaceous_inf[1]<image[i][j][1]<herbaceous_inf[1])and(herbaceous_inf[2]<image[i][j][2]<herbaceous_inf[2])and(herbaceous[3]<image[i][j][3]<herbaceous_inf[3])) :\n",
    "                test_herbaceous  += 1\n",
    "                #colmask_test[i][j] == [118,209,93]\n",
    "            if ((natural_inf[0]<image[i][j][0]<natural_inf[0])and(natural_inf[1]<image[i][j][1]<natural_inf[1])and(natural_inf[2]<image[i][j][2]<natural_inf[2])and(natural_inf[3]<image[i][j][3]<natural_inf[3])) :\n",
    "                test_natural  += 1\n",
    "                #colmask_test[i][j] == [130,130,130]\n",
    "            if ((snow_inf[0]<image[i][j][0]<snow_inf[0])and(snow_inf[1]<image[i][j][1]<snow_inf[1])and(snow_inf[2]<image[i][j][2]<snow_inf[2])and(snow_inf[3]<image[i][j][3]<snow_inf[3])) :\n",
    "                test_snow  += 1\n",
    "                #colmask_test[i][j] == [255,255,255]\n",
    "            if ((no_data_inf[0]<image[i][j][0]<no_data_inf[0])and(no_data_inf[1]<image[i][j][1]<no_data_inf[1])and(no_data_inf[2]<image[i][j][2]<no_data_inf[2])and(no_data_inf[3]<image[i][j][3]<no_data_inf[3])) :\n",
    "                test_water  += 1\n",
    "                #colmask_test[i][j] == [43,61,255]\n",
    "    \n",
    "    return test_no_data, test_clouds, test_artificial, test_cultivated,  test_broadleaf, test_coniferous, test_herbaceous, test_natural, test_snow, test_water\n",
    "\n",
    "def intervalle(no_data, clouds, artificial, cultivated,  broadleaf, coniferous, herbaceous, natural, snow, water, no_data_in, clouds_in, artificial_in, cultivated_in,  broadleaf_in, coniferous_in, herbaceous_in, natural_in, snow_in, water_in):\n",
    "    no_data_inf = no_data-no_data_in\n",
    "    no_data_sup = no_data+no_data_in\n",
    "    clouds_inf = clouds-clouds_in\n",
    "    clouds_sup = clouds+clouds_in\n",
    "    artificial_inf = artificial-artificial_in\n",
    "    artificial_sup = artificial+artificial_in\n",
    "    cultivated_inf = cultivated-cultivated_in\n",
    "    cultivated_sup = cultivated+cultivated_in\n",
    "    broadleaf_inf = broadleaf-broadleaf_in\n",
    "    broadleaf_sup = broadleaf+broadleaf_in\n",
    "    coniferous_inf = coniferous-coniferous_in\n",
    "    coniferous_sup = coniferous+coniferous_in\n",
    "    herbaceous_inf = herbaceous-herbaceous_in\n",
    "    herbaceous_sup = herbaceous+herbaceous_in\n",
    "    natural_inf = natural-natural_in\n",
    "    natural_sup = natural+natural_in\n",
    "    snow_inf = snow-snow_in\n",
    "    snow_sup = snow+snow_in\n",
    "    water_inf = water-water_in\n",
    "    water_sup = water+water_in\n",
    "    \n",
    "    return(no_data_inf, no_data_sup, clouds_inf, clouds_sup, artificial_inf, artificial_sup, cultivated_inf, cultivated_sup,\n",
    "           broadleaf_inf, broadleaf_sup, coniferous_inf, coniferous_sup, herbaceous_inf, herbaceous_sup,\n",
    "           natural_inf, natural_sup, snow_inf, snow_sup, water_inf, water_sup)"
   ]
  },
  {
   "cell_type": "code",
   "execution_count": 32,
   "metadata": {},
   "outputs": [
    {
     "name": "stdout",
     "output_type": "stream",
     "text": [
      "(array([nan, nan, nan, nan]), array([nan, nan, nan, nan]), array([74.04242369, 89.41892145, 78.67168271, 75.1311128 ]), array([232.3833813 , 244.39159302, 241.55600655, 252.93200856]), array([ 78.63218292, 104.4781177 , 114.16013019, 223.7123883 ]), array([133.20204886, 162.10704127, 180.54517551, 251.61153464]), array([ 48.00880459,  85.15915854,  77.37866761, 248.32907039]), array([ 89.11782963, 131.6039351 , 148.9350915 , 257.01984395]), array([ 11.05401939,  36.41939611,  15.35198383, 252.21116751]), array([ 24.92080729,  50.34189254,  31.94313951, 255.56107213]), array([  8.26779785,  29.47342653,  12.18277488, 225.87520856]), array([ 35.94287652,  59.30194316,  47.40936399, 256.27325278]), array([ 35.76076463,  73.27208956,  57.16733062, 236.28271446]), array([ 58.57497938,  91.90409971,  95.76246774, 265.5675397 ]), array([ 83.55204303, 116.82370549, 126.69090643, 202.28310409]), array([167.14338479, 199.84850752, 219.49369679, 273.90475098]), array([161.28810491, 172.72631081, 171.38332838, 171.62728717]), array([275.80786059, 281.50172392, 285.7268258 , 291.58456823]), array([ 4.35271736, 28.46155913,  8.03784342, 34.95671495]), array([127.22371544, 148.7998611 , 135.61269319, 182.48355299]))\n"
     ]
    }
   ],
   "source": [
    "print(intervalle(no_data_tot_moy, clouds_tot_moy, artificial_tot_moy, cultivated_tot_moy,  broadleaf_tot_moy, coniferous_tot_moy, herbaceous_tot_moy, natural_tot_moy, snow_tot_moy, water_tot_moy, E_no_data, E_clouds, E_artificial, E_cultivated,  E_broadleaf, E_coniferous, E_herbaceous, E_natural, E_snow, E_water))"
   ]
  },
  {
   "cell_type": "code",
   "execution_count": null,
   "metadata": {},
   "outputs": [
    {
     "name": "stderr",
     "output_type": "stream",
     "text": [
      "/usr/local/lib/python3.6/dist-packages/numpy/core/fromnumeric.py:3373: RuntimeWarning: Mean of empty slice.\n",
      "  out=out, **kwargs)\n",
      "/usr/local/lib/python3.6/dist-packages/numpy/core/_methods.py:163: RuntimeWarning: invalid value encountered in true_divide\n",
      "  ret, rcount, out=ret, casting='unsafe', subok=False)\n"
     ]
    }
   ],
   "source": [
    "display_max = 2200\n",
    "display_min = 0\n",
    "a=4\n",
    "no_data_moy_tot = np.empty((0,a))\n",
    "clouds_moy_tot = np.empty((0,a))\n",
    "artificial_moy_tot = np.empty((0,a))\n",
    "cultivated_moy_tot = np.empty((0,a))\n",
    "broadleaf_moy_tot = np.empty((0,a))\n",
    "coniferous_moy_tot = np.empty((0,a))\n",
    "herbaceous_moy_tot = np.empty((0,a))\n",
    "natural_moy_tot = np.empty((0,a))\n",
    "snow_moy_tot = np.empty((0,a))\n",
    "water_moy_tot = np.empty((0,a))\n",
    "\n",
    "for k, idx in enumerate(random.sample(range(len(train_images_paths)), 1500)):\n",
    "    axisconca = 0\n",
    "    image_path = train_images_paths[idx]\n",
    "    mask_path = train_masks_paths[idx]\n",
    "    assert image_path.name == mask_path.name\n",
    "    \n",
    "    #fig, axs = plt.subplots(1, 3, figsize=(20, 20))\n",
    "    \n",
    "    with TiffFile(image_path) as tif:\n",
    "        image = tif.asarray()  \n",
    "    if image.dtype == np.uint16:\n",
    "        iscale = display_max - display_min\n",
    "        scale = 255 / iscale\n",
    "        byte_im = (image) * scale\n",
    "        byte_im = (byte_im.clip(0, 255) + 0.5).astype(np.uint8)\n",
    "    image = byte_im\n",
    "    #axs[0].axis(\"off\")\n",
    "    #im = axs[0].imshow(image)\n",
    "        \n",
    "        \n",
    "    with TiffFile(mask_path) as tif :\n",
    "        mask = tif.asarray()\n",
    "    colmask_test, no_data, clouds, artificial, cultivated, broadleaf, coniferous, herbaceous, natural, snow, water =test(image, mask)\n",
    "    no_data_moy = np.mean(no_data,axis=0)\n",
    "    clouds_moy = np.mean(clouds, axis=0)\n",
    "    artificial_moy = np.mean(artificial, axis=0)\n",
    "    cultivated_moy = np.mean(cultivated, axis=0)\n",
    "    broadleaf_moy = np.mean(broadleaf, axis=0)\n",
    "    coniferous_moy = np.mean(coniferous, axis=0)\n",
    "    herbaceous_moy = np.mean(herbaceous, axis=0)\n",
    "    natural_moy = np.mean(natural, axis=0)\n",
    "    snow_moy = np.mean(snow, axis=0)\n",
    "    water_moy = np.mean(water, axis=0)\n",
    "    \n",
    "    no_data_moy_tot= np.concatenate((no_data_moy_tot,[no_data_moy]))\n",
    "    clouds_moy_tot = np.concatenate((clouds_moy_tot,[clouds_moy]))\n",
    "    artificial_moy_tot = np.concatenate((artificial_moy_tot,[artificial_moy]))\n",
    "    cultivated_moy_tot = np.concatenate((cultivated_moy_tot,[cultivated_moy]))\n",
    "    broadleaf_moy_tot = np.concatenate((broadleaf_moy_tot,[broadleaf_moy]))\n",
    "    coniferous_moy_tot = np.concatenate((coniferous_moy_tot,[coniferous_moy]))\n",
    "    herbaceous_moy_tot = np.concatenate((herbaceous_moy_tot,[herbaceous_moy]))\n",
    "    natural_moy_tot = np.concatenate((natural_moy_tot,[natural_moy]))\n",
    "    snow_moy_tot = np.concatenate((snow_moy_tot,[snow_moy]))\n",
    "    water_moy_tot = np.concatenate((water_moy_tot,[water_moy]))\n",
    "    #print(water_moy_tot)\n",
    "    \n",
    "    classes_colorpalette = {c: color/255. for (c, color) in LCD.CLASSES_COLORPALETTE.items()}\n",
    "    show_mask = np.empty((*mask.shape, 3))\n",
    "    show_test = np.empty((*colmask_test.shape, 3))\n",
    "    classes = LCD.CLASSES\n",
    "    for c, color in classes_colorpalette.items():\n",
    "        show_mask[mask == c, :] = color\n",
    "        show_test[colmask_test == c, : ] = color\n",
    "    #axs[1].axis(\"off\")\n",
    "    #axs[2].axis(\"off\")\n",
    "    #im = axs[1].imshow(show_mask)\n",
    "    handles = []\n",
    "    #for c, color in classes_colorpalette.items():\n",
    "     #   handles.append(mpatches.Patch(color=color, label=classes[c]))\n",
    "      #  axs[1].legend(handles=handles)\n",
    "       # axs[2].legend(handles=handles)\n",
    "    \n",
    "    \n",
    "    \n",
    "    #axs[0].set_title(f'Image: {image_path.name}')\n",
    "    #axs[1].set_title('Mask')\n",
    "    #im = axs[2].imshow(show_test)\n",
    "    #print(\"0\",no_data_moy)\n",
    "    #print(\"1\",clouds_moy)\n",
    "    #print(\"2\", artificial_moy)\n",
    "    #print(\"3\", cultivated_moy)\n",
    "    #print(\"4\", broadleaf_moy)\n",
    "    #print(\"5\", coniferous_moy)\n",
    "    #print(\"6\", herbaceous_moy)\n",
    "    #print(\"7\", natural_moy)\n",
    "    #print(\"8\", snow_moy)\n",
    "    #print(\"9\", water_moy)\n",
    "    #print(\" \")\n",
    "\n",
    "no_data_tot_moy = np.nanmean(no_data_moy_tot,axis=0)\n",
    "clouds_tot_moy = np.nanmean(clouds_moy_tot, axis=0)\n",
    "artificial_tot_moy = np.nanmean(artificial_moy_tot, axis=0)\n",
    "cultivated_tot_moy = np.nanmean(cultivated_moy_tot, axis=0)\n",
    "broadleaf_tot_moy = np.nanmean(broadleaf_moy_tot, axis=0)\n",
    "coniferous_tot_moy = np.nanmean(coniferous_moy_tot, axis=0)\n",
    "herbaceous_tot_moy = np.nanmean(herbaceous_moy_tot, axis=0)\n",
    "natural_tot_moy = np.nanmean(natural_moy_tot, axis=0)\n",
    "snow_tot_moy = np.nanmean(snow_moy_tot, axis=0)\n",
    "water_tot_moy = np.nanmean(water_moy_tot, axis=0)\n",
    "#print(water_tot_moy)"
   ]
  },
  {
   "cell_type": "code",
   "execution_count": 27,
   "metadata": {},
   "outputs": [
    {
     "name": "stdout",
     "output_type": "stream",
     "text": [
      "nodata :         [nan nan nan nan]\n",
      "clouds :         [153.2129025  166.90525724 160.11384463 164.03156068]\n",
      "artificial :     [105.91711589 133.29257949 147.35265285 237.66196147]\n",
      "cultivated :     [ 68.56331711 108.38154682 113.15687956 252.67445717]\n",
      "broadleaf :      [ 17.98741334  43.38064432  23.64756167 253.88611982]\n",
      "coniferous :     [ 22.10533719  44.38768484  29.79606944 241.07423067]\n",
      "herbaceous :     [ 47.16787201  82.58809464  76.46489918 250.92512708]\n",
      "natural :        [125.34771391 158.33610651 173.09230161 238.09392753]\n",
      "snow :           [218.54798275 227.11401737 228.55507709 231.6059277 ]\n",
      "water :          [ 65.7882164   88.63071012  71.8252683  108.72013397]\n"
     ]
    }
   ],
   "source": [
    "print(\"nodata :        \"  , no_data_tot_moy)\n",
    "print(\"clouds :        \"  ,clouds_tot_moy)\n",
    "print(\"artificial :    \"  ,artificial_tot_moy)\n",
    "print(\"cultivated :    \", cultivated_tot_moy)\n",
    "print(\"broadleaf :     \", broadleaf_tot_moy)\n",
    "print(\"coniferous :    \", coniferous_tot_moy)\n",
    "print(\"herbaceous :    \", herbaceous_tot_moy)\n",
    "print(\"natural :       \", natural_tot_moy)\n",
    "print(\"snow :          \", snow_tot_moy)\n",
    "print(\"water :         \", water_tot_moy)"
   ]
  },
  {
   "cell_type": "code",
   "execution_count": 28,
   "metadata": {},
   "outputs": [
    {
     "name": "stdout",
     "output_type": "stream",
     "text": [
      "nodata :         [nan nan nan nan]\n",
      "clouds :         [79.17047881 77.48633578 81.44216192 88.90044788]\n",
      "artificial :     [27.28493297 28.81446178 33.19252266 13.94957317]\n",
      "cultivated :     [20.55451252 23.22238828 35.77821194  4.34538678]\n",
      "broadleaf :      [6.93339395 6.96124822 8.29557784 1.67495231]\n",
      "coniferous :     [13.83753934 14.91425831 17.61329455 15.19902211]\n",
      "herbaceous :     [11.40710737  9.31600508 19.29756856 14.64241262]\n",
      "natural :        [41.79567088 41.51240102 46.40139518 35.81082345]\n",
      "snow :           [57.25987784 54.38770656 57.17174871 59.97864053]\n",
      "water :          [61.43549904 60.16915098 63.78742489 73.76341902]\n"
     ]
    },
    {
     "name": "stderr",
     "output_type": "stream",
     "text": [
      "/usr/local/lib/python3.6/dist-packages/numpy/lib/nanfunctions.py:1665: RuntimeWarning: Degrees of freedom <= 0 for slice.\n",
      "  keepdims=keepdims)\n"
     ]
    }
   ],
   "source": [
    "E_no_data = np.nanstd(no_data_moy_tot, axis = 0)\n",
    "E_clouds = np.nanstd(clouds_moy_tot, axis = 0)\n",
    "E_artificial = np.nanstd(artificial_moy_tot, axis = 0)\n",
    "E_cultivated = np.nanstd(cultivated_moy_tot, axis = 0)\n",
    "E_broadleaf = np.nanstd(broadleaf_moy_tot, axis = 0)\n",
    "E_coniferous = np.nanstd(coniferous_moy_tot, axis = 0)\n",
    "E_herbaceous = np.nanstd(herbaceous_moy_tot, axis = 0)\n",
    "E_natural = np.nanstd(natural_moy_tot, axis = 0)\n",
    "E_snow = np.nanstd(snow_moy_tot, axis = 0)\n",
    "E_water = np.nanstd(water_moy_tot, axis = 0)\n",
    "print(\"nodata :        \"  ,E_no_data)\n",
    "print(\"clouds :        \"  ,E_clouds)\n",
    "print(\"artificial :    \"  ,E_artificial)\n",
    "print(\"cultivated :    \" , E_cultivated)\n",
    "print(\"broadleaf :     \" , E_broadleaf)\n",
    "print(\"coniferous :    \" , E_coniferous)\n",
    "print(\"herbaceous :    \" , E_herbaceous)\n",
    "print(\"natural :       \" , E_natural)\n",
    "print(\"snow :          \" , E_snow)\n",
    "print(\"water :         \" , E_water)"
   ]
  },
  {
   "cell_type": "code",
   "execution_count": 68,
   "metadata": {},
   "outputs": [
    {
     "name": "stdout",
     "output_type": "stream",
     "text": [
      "1\n",
      "2\n",
      "3\n",
      "4\n",
      "5\n",
      "6\n",
      "7\n",
      "8\n",
      "9\n",
      "10\n",
      "0 :  0\n",
      "1 :  0\n",
      "2 :  0\n",
      "3 :  0\n",
      "4 :  0\n",
      "5 :  0\n",
      "6 :  0\n",
      "7 :  0\n",
      "8 :  0\n",
      "9 :  0\n"
     ]
    }
   ],
   "source": [
    "no_data_inf, no_data_sup, clouds_inf, clouds_sup, artificial_inf, artificial_sup, cultivated_inf, cultivated_sup,broadleaf_inf, broadleaf_sup, coniferous_inf, coniferous_sup, herbaceous_inf, herbaceous_sup,natural_inf, natural_sup, snow_inf, snow_sup, water_inf, water_sup = intervalle(no_data_tot_moy, clouds_tot_moy,artificial_tot_moy, cultivated_tot_moy, broadleaf_tot_moy, coniferous_tot_moy,herbaceous_tot_moy, natural_tot_moy,snow_tot_moy, water_tot_moy,E_no_data, E_clouds, E_artificial, E_cultivated,  E_broadleaf, E_coniferous, E_herbaceous, E_natural, E_snow, E_water)\n",
    "test_no_data=0\n",
    "test_clouds=0\n",
    "test_artificial=0\n",
    "test_cultivated=0\n",
    "test_broadleaf=0\n",
    "test_coniferous=0\n",
    "test_herbaceous=0\n",
    "test_natural=0\n",
    "test_snow=0\n",
    "test_water=0\n",
    "count =0\n",
    "for k, idx in enumerate(random.sample(range(len(test_images_paths)), 10)):\n",
    "    axisconca = 0\n",
    "    image_path = test_images_paths[idx]\n",
    "       \n",
    "    #fig, axs = plt.subplots(1, 3, figsize=(20, 20))\n",
    "    \n",
    "    with TiffFile(image_path) as tif:\n",
    "        image = tif.asarray()  \n",
    "    if image.dtype == np.uint16:\n",
    "        iscale = display_max - display_min\n",
    "        scale = 255 / iscale\n",
    "        byte_im = (image) * scale\n",
    "        byte_im = (byte_im.clip(0, 255) + 0.5).astype(np.uint8)\n",
    "    colimage = byte_im\n",
    "    #axs[0].axis(\"off\")\n",
    "    #im = axs[0].imshow(image)\n",
    "        \n",
    "    image= np.array(colimage)\n",
    "    count+=1\n",
    "    print(count)\n",
    "    for i in range (image.shape[0]):\n",
    "        for j in range (image.shape[1]):            \n",
    "            if ((no_data_inf[0]<image[i][j][0]<no_data_inf[0])and(no_data_inf[1]<image[i][j][1]<no_data_inf[1])and(no_data_inf[2]<image[i][j][2]<no_data_inf[2])and(no_data_inf[3]<image[i][j][3]<no_data_inf[3])) :\n",
    "                test_no_data +=1\n",
    "            if ((clouds_inf[0]<image[i][j][0]<clouds_inf[0])and(clouds_inf[1]<image[i][j][1]<clouds_inf[1])and(clouds_inf[2]<image[i][j][2]<clouds_inf[2])and(clouds_inf[3]<image[i][j][3]<clouds_inf[3])) :\n",
    "                test_clouds +=1\n",
    "                #colmask_test[i][j] == [255,25,236]\n",
    "            if ((artificial_inf[0]<image[i][j][0]<artificial_inf[0])and(artificial_inf[1]<image[i][j][1]<artificial_inf[1])and(artificial_inf[2]<image[i][j][2]<artificial_inf[2])and(artificial_inf[3]<image[i][j][3]<artificial_inf[3])) :\n",
    "                test_artificial +=1\n",
    "                #colmask_test[i][j] == [215,25,28]\n",
    "            if ((cultivated_inf[0]<image[i][j][0]<cultivated_inf[0])and(cultivated_inf[1]<image[i][j][1]<cultivated_inf[1])and(cultivated_inf[2]<image[i][j][2]<cultivated_inf[2])and(cultivated_inf[3]<image[i][j][3]<cultivated_inf[3])) :\n",
    "                test_cultivated  += 1\n",
    "                #colmask_test[i][j] == [211,154,92]\n",
    "            if ((broadleaf_inf[0]<image[i][j][0]<broadleaf_inf[0])and(broadleaf_inf[1]<image[i][j][1]<broadleaf_inf[1])and(broadleaf_inf[2]<image[i][j][2]<broadleaf_inf[2])and(broadleaf_inf[3]<image[i][j][3]<broadleaf_inf[3])) :\n",
    "                \n",
    "                test_broadleaf  += 1\n",
    "                #colmask_test[i][j] == [33,115,55]\n",
    "            if ((coniferous_inf[0]<image[i][j][0]<coniferous_inf[0])and(coniferous_inf[1]<image[i][j][1]<coniferous_inf[1])and(coniferous_inf[2]<image[i][j][2]<coniferous_inf[2])and(coniferous_inf[3]<image[i][j][3]<coniferous_inf[3])) :\n",
    "                test_coniferous  += 1\n",
    "                #colmask_test[i][j] == [21,75,35]\n",
    "            if ((herbaceous_inf[0]<image[i][j][0]<herbaceous_inf[0])and(herbaceous_inf[1]<image[i][j][1]<herbaceous_inf[1])and(herbaceous_inf[2]<image[i][j][2]<herbaceous_inf[2])and(herbaceous[3]<image[i][j][3]<herbaceous_inf[3])) :\n",
    "                test_herbaceous  += 1\n",
    "                #colmask_test[i][j] == [118,209,93]\n",
    "            if ((natural_inf[0]<image[i][j][0]<natural_inf[0])and(natural_inf[1]<image[i][j][1]<natural_inf[1])and(natural_inf[2]<image[i][j][2]<natural_inf[2])and(natural_inf[3]<image[i][j][3]<natural_inf[3])) :\n",
    "                test_natural  += 1\n",
    "                #colmask_test[i][j] == [130,130,130]\n",
    "            if ((snow_inf[0]<image[i][j][0]<snow_inf[0])and(snow_inf[1]<image[i][j][1]<snow_inf[1])and(snow_inf[2]<image[i][j][2]<snow_inf[2])and(snow_inf[3]<image[i][j][3]<snow_inf[3])) :\n",
    "                test_snow  += 1\n",
    "                #colmask_test[i][j] == [255,255,255]\n",
    "            if ((water_inf[0]<image[i][j][0]<water_inf[0])and(water_inf[1]<image[i][j][1]<water_inf[1])and(water_inf[2]<image[i][j][2]<water_inf[2])and(water_inf[3]<image[i][j][3]<water_inf[3])) :\n",
    "                test_water  += 1\n",
    "                #colmask_test[i][j] == [43,61,255]\n",
    "    \n",
    "\n",
    "print(\"0 : \" ,test_no_data)\n",
    "print(\"1 : \" ,test_clouds)\n",
    "print(\"2 : \" ,test_artificial)\n",
    "print(\"3 : \" ,test_cultivated)\n",
    "print(\"4 : \", test_broadleaf)\n",
    "print(\"5 : \", test_coniferous)\n",
    "print(\"6 : \", test_herbaceous)\n",
    "print(\"7 : \", test_natural)\n",
    "print(\"8 : \", test_snow)\n",
    "print(\"9 : \", test_water)\n"
   ]
  },
  {
   "cell_type": "code",
   "execution_count": 66,
   "metadata": {},
   "outputs": [
    {
     "name": "stdout",
     "output_type": "stream",
     "text": [
      "35.76076463454616\n",
      "58.57497937889953\n"
     ]
    }
   ],
   "source": [
    "print(herbaceous_inf[0])\n",
    "print(herbaceous_sup[0])"
   ]
  },
  {
   "cell_type": "code",
   "execution_count": 389,
   "metadata": {},
   "outputs": [],
   "source": [
    "def show_image(image, display_min=50, display_max=400, ax=None):\n",
    "    \"\"\"Show an image.\n",
    "    Args:\n",
    "        image (numpy.array[uint16]): the image. If the image is 16-bit, apply bytescaling to convert to 8-bit\n",
    "    \"\"\"\n",
    "    if image.dtype == np.uint16:\n",
    "        iscale = display_max - display_min\n",
    "        scale = 255 / iscale\n",
    "        byte_im = (image) * scale\n",
    "        byte_im = (byte_im.clip(0, 255) + 0.5).astype(np.uint8)\n",
    "        image = byte_im\n",
    "    # show image\n",
    "    if ax is None:\n",
    "        fig, ax = plt.subplots(figsize=(10, 10))\n",
    "    ax.axis(\"off\")\n",
    "    im = ax.imshow(image)\n",
    "    \n",
    "    return im\n",
    "\n",
    "def show_mask(mask, classes_colorpalette, classes=None, add_legend=True, ax=None):\n",
    "    \"\"\"Show a a semantic segmentation mask.\n",
    "    Args:\n",
    "       mask (numpy.array[uint8]): the mask in 8-bit\n",
    "       classes_colorpalette (dict[int, tuple]): dict mapping class index to an RGB color in [0, 1]\n",
    "       classes (list[str], optional): list of class labels\n",
    "       add_legend\n",
    "    \"\"\"\n",
    "    show_mask = np.empty((*mask.shape, 3))\n",
    "    for c, color in classes_colorpalette.items():\n",
    "        show_mask[mask == c, :] = color\n",
    "    if ax is None:\n",
    "        fig, ax = plt.subplots(figsize=(10, 10))\n",
    "    ax.axis(\"off\")\n",
    "    im = ax.imshow(show_mask)\n",
    "    if add_legend:\n",
    "        # show legend mapping pixel colors to class names\n",
    "        import matplotlib.patches as mpatches\n",
    "        handles = []\n",
    "        for c, color in classes_colorpalette.items():\n",
    "            handles.append(mpatches.Patch(color=color, label=classes[c]))\n",
    "        ax.legend(handles=handles)\n",
    "    return im"
   ]
  },
  {
   "cell_type": "code",
   "execution_count": null,
   "metadata": {},
   "outputs": [],
   "source": []
  },
  {
   "cell_type": "markdown",
   "metadata": {},
   "source": [
    "# Test d'un réseau de neuronnes avec une seule couche. "
   ]
  },
  {
   "cell_type": "code",
   "execution_count": 22,
   "metadata": {},
   "outputs": [],
   "source": [
    "# Nous avons des images en 256*256 pixels, soit 65 536 pixels par images avec 10 classes différentes, soit 655 360 paramètres pour la première couche du réseau de neuronnes.\n",
    "# Pour ce faire, nous allons créer 10 filtres unicolores pour chaque classes. A savoir, nos images comportent 4 couleurs : Rouge, vert, bleu mais aussi spectroscopie dans l'infrarouge proche SPIR.\n",
    "# Dans ce premier cas, on ne prendra pas en compte le SPIR mais uniquement le spectre du visible. \n",
    "# P : matrice de pixels 246*256 soit 1*65 536\n",
    "# W : matrices filtres de tailles 65 536 * 10\n",
    "# S : matrices de 1*10 allant de 0 à 1 (pourcentage de classe) => sum(S) = 1\n",
    "# \n",
    "# De ce fait, lors de la phase de test, l'inconnue dans notre opération est W, notre matric de filtre.\n",
    "# Pour trouver la valeur de la matrixe W, on tentera de miimiser notre erreur E:\n",
    "# E = sum((P.W-S)²)                   => pour les dimension des matrices :  sum (((1 * 65 536 . 65 536 * 10) - 1*10)²)\n",
    "# Si E = 0, on aura trouver le filtre le plus proche possible pour passer de notre image satellite au mask que nous appliquons. \n",
    "# Pour nous approcher de E = 0, nous allons donc devoir faire varier notre filtre W. Pour ce faire, on utilisera le gradient de W. Soit \n",
    "# W(i+1 ) = W(i) - f'(W(i)) * fac     avec fac proche de 0 pour le faire varier petit à petit. \n",
    "# Le gradient de W est  : Grad = t(P)*(2*(P.W-S))    avec t(P) la transposé de la matrice P"
   ]
  },
  {
   "cell_type": "code",
   "execution_count": null,
   "metadata": {},
   "outputs": [],
   "source": [
    "# les 10 classes en RGB et hexa\n",
    "# No-data => 0;0;0      FFFFFF\n",
    "# Clouds => 255;25;23   FF19EC\n",
    "# Artificial surfaces and constructions => 215;25;28   D7191C\n",
    "# Cultivated ares => 211;154;92   D39A5C\n",
    "# broadleaf tree cover => 33;115;55   217337\n",
    "# Coniferous tree vover => 21;75;35   154B23\n",
    "# Herbaceous vegetation => 118;209;93   76D15D\n",
    "# Natural material surfaces => 130;130;130   828282\n",
    "# Permanent snow-covered surfaces => 255;255;255   FFFFFF\n",
    "# Water bodies => 43;61;255   2B3DFF"
   ]
  },
  {
   "cell_type": "code",
   "execution_count": 32,
   "metadata": {},
   "outputs": [
    {
     "ename": "AttributeError",
     "evalue": "module 'matplotlib' has no attribute 'get_cmap'",
     "output_type": "error",
     "traceback": [
      "\u001b[0;31m---------------------------------------------------------------------------\u001b[0m",
      "\u001b[0;31mAttributeError\u001b[0m                            Traceback (most recent call last)",
      "\u001b[0;32m<ipython-input-32-c94d8d50ff00>\u001b[0m in \u001b[0;36m<module>\u001b[0;34m\u001b[0m\n\u001b[0;32m----> 1\u001b[0;31m \u001b[0mcouleur\u001b[0m \u001b[0;34m=\u001b[0m \u001b[0mplt\u001b[0m\u001b[0;34m.\u001b[0m\u001b[0mget_cmap\u001b[0m\u001b[0;34m(\u001b[0m\u001b[0;34m'viridis'\u001b[0m\u001b[0;34m,\u001b[0m \u001b[0;36m8\u001b[0m\u001b[0;34m)\u001b[0m\u001b[0;34m\u001b[0m\u001b[0;34m\u001b[0m\u001b[0m\n\u001b[0m",
      "\u001b[0;31mAttributeError\u001b[0m: module 'matplotlib' has no attribute 'get_cmap'"
     ]
    }
   ],
   "source": [
    "https://github.com/Hvass-Labs/TensorFlow-Tutorials/blob/master/01_Simple_Linear_Model.ipynb"
   ]
  },
  {
   "cell_type": "code",
   "execution_count": null,
   "metadata": {},
   "outputs": [],
   "source": []
  }
 ],
 "metadata": {
  "kernelspec": {
   "display_name": "Python 3",
   "language": "python",
   "name": "python3"
  },
  "language_info": {
   "codemirror_mode": {
    "name": "ipython",
    "version": 3
   },
   "file_extension": ".py",
   "mimetype": "text/x-python",
   "name": "python",
   "nbconvert_exporter": "python",
   "pygments_lexer": "ipython3",
   "version": "3.6.9"
  }
 },
 "nbformat": 4,
 "nbformat_minor": 4
}
